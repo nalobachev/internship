{
  "nbformat": 4,
  "nbformat_minor": 0,
  "metadata": {
    "colab": {
      "name": "hedu-scraping.ipynb",
      "provenance": []
    },
    "kernelspec": {
      "name": "python3",
      "display_name": "Python 3"
    },
    "language_info": {
      "name": "python"
    }
  },
  "cells": [
    {
      "cell_type": "code",
      "metadata": {
        "id": "kMb3rJyuCZ0A"
      },
      "source": [
        "import requests\n",
        "import shutil\n",
        "from bs4 import BeautifulSoup\n",
        "import pandas as pd\n",
        "import os"
      ],
      "execution_count": null,
      "outputs": []
    },
    {
      "cell_type": "code",
      "metadata": {
        "id": "eE6SELrsJXHJ"
      },
      "source": [
        "def find_links(url, result):\n",
        "    r = requests.get(url)\n",
        "    soup = BeautifulSoup(r.content)\n",
        "    text_boxs = soup.find_all(attrs={\"class\": \"textBox\"})\n",
        "    for box in text_boxs:\n",
        "        result.append(\"https://irs.academy\" + box.find(\"a\")['href'])"
      ],
      "execution_count": null,
      "outputs": []
    },
    {
      "cell_type": "code",
      "metadata": {
        "id": "y_PHDCg6S5NF"
      },
      "source": [
        "def find_images(url, image_links):\n",
        "    r = requests.get(url)\n",
        "    soup = BeautifulSoup(r.content)\n",
        "    image_boxes = soup.find_all(attrs={\"class\": \"imgBox\"})\n",
        "    for image in image_boxes:\n",
        "        image_links.append(\"https://irs.academy\" + image.contents[5][\"content\"])"
      ],
      "execution_count": null,
      "outputs": []
    },
    {
      "cell_type": "code",
      "metadata": {
        "id": "cUYOUPNKvvi_"
      },
      "source": [
        "urls = [\n",
        "        \"https://irs.academy/retush_and_photo\",\n",
        "        \"https://irs.academy/business_category\",\n",
        "        \"https://irs.academy/it_courses\",\n",
        "        \"https://irs.academy/design_category\",\n",
        "        \"https://irs.academy/needlework\",\n",
        "        \"https://irs.academy/art_category\",\n",
        "        \"https://irs.academy/exam_category\",\n",
        "        \"https://irs.academy/beauty_category\",\n",
        "        \"https://irs.academy/psychology_category\",\n",
        "        \"https://irs.academy/inostrannye_yazyki_category\",\n",
        "        \"https://irs.academy/drugoe_category\"\n",
        "]"
      ],
      "execution_count": null,
      "outputs": []
    },
    {
      "cell_type": "code",
      "metadata": {
        "id": "GE8JAxIAKLXA"
      },
      "source": [
        "course_links = []\n",
        "for url in urls:\n",
        "    find_links(url, course_links)"
      ],
      "execution_count": null,
      "outputs": []
    },
    {
      "cell_type": "code",
      "metadata": {
        "id": "7LWuBXODTwFz"
      },
      "source": [
        "image_links = []\n",
        "for url in urls:\n",
        "    find_images(url, image_links)\n",
        "\n",
        "for i, image in enumerate(image_links):\n",
        "    r = requests.get(image, stream=True)\n",
        "    if r.status_code == 200:\n",
        "        with open(\"/content/drive/MyDrive/internship_bot/images/{}.jpg\".format(i), 'wb') as f: \n",
        "            r.raw.decode_content = True\n",
        "            shutil.copyfileobj(r.raw, f)"
      ],
      "execution_count": null,
      "outputs": []
    },
    {
      "cell_type": "code",
      "metadata": {
        "id": "dmX57-0AxVAM"
      },
      "source": [
        "data = []"
      ],
      "execution_count": null,
      "outputs": []
    },
    {
      "cell_type": "code",
      "metadata": {
        "id": "FKIq6nPsDUBt"
      },
      "source": [
        "for course in course_links:\n",
        "    try:\n",
        "        r = requests.get(course)\n",
        "        soup = BeautifulSoup(r.content)\n",
        "        text = \"\"\n",
        "        for_whom = soup.find_all(attrs={\"class\": \"for-whom-text\"})\n",
        "        for pers in for_whom:\n",
        "            header = pers.find('h3').contents[0]\n",
        "            discript = pers.find('p').contents[0]\n",
        "            text += header + \":\" + discript + os.linesep\n",
        "        text += \"После окончания курса вы сможете:\"\n",
        "        you = soup.find_all(attrs={\"class\": \"you-can-item\"})\n",
        "        for item in you:\n",
        "            text += item.find('p').contents[0] + ';'\n",
        "        lessons = soup.find_all(attrs={\"class\": \"lesson-descr\"})\n",
        "        for lesson in lessons:\n",
        "            text += lesson.contents[0]\n",
        "        \n",
        "        header = soup.find('h1').contents[0]\n",
        "        course = {\"url\":course, \"header\":header, \"text\":text}\n",
        "        data.append(course)\n",
        "    except:\n",
        "        continue"
      ],
      "execution_count": null,
      "outputs": []
    },
    {
      "cell_type": "code",
      "metadata": {
        "id": "f2Ei8YsExgai"
      },
      "source": [
        "df = pd.DataFrame.from_dict(data)"
      ],
      "execution_count": null,
      "outputs": []
    },
    {
      "cell_type": "code",
      "metadata": {
        "colab": {
          "base_uri": "https://localhost:8080/",
          "height": 555
        },
        "id": "44d-SyNXxxX6",
        "outputId": "20d2f589-9dec-41b4-996d-eed28c5e816f"
      },
      "source": [
        "df"
      ],
      "execution_count": null,
      "outputs": [
        {
          "output_type": "execute_result",
          "data": {
            "text/html": [
              "<div>\n",
              "<style scoped>\n",
              "    .dataframe tbody tr th:only-of-type {\n",
              "        vertical-align: middle;\n",
              "    }\n",
              "\n",
              "    .dataframe tbody tr th {\n",
              "        vertical-align: top;\n",
              "    }\n",
              "\n",
              "    .dataframe thead th {\n",
              "        text-align: right;\n",
              "    }\n",
              "</style>\n",
              "<table border=\"1\" class=\"dataframe\">\n",
              "  <thead>\n",
              "    <tr style=\"text-align: right;\">\n",
              "      <th></th>\n",
              "      <th>url</th>\n",
              "      <th>header</th>\n",
              "      <th>text</th>\n",
              "    </tr>\n",
              "  </thead>\n",
              "  <tbody>\n",
              "    <tr>\n",
              "      <th>0</th>\n",
              "      <td>https://irs.academy/videomontazh</td>\n",
              "      <td>Онлайн-курс видеомонтажа</td>\n",
              "      <td>Начинающих видеомонтажеров:Хотите освоить нову...</td>\n",
              "    </tr>\n",
              "    <tr>\n",
              "      <th>1</th>\n",
              "      <td>https://irs.academy/kurs_zvukooperator</td>\n",
              "      <td>Онлайн-курс звукооператора</td>\n",
              "      <td>Новичкам:Если вы хотите получить востребованну...</td>\n",
              "    </tr>\n",
              "    <tr>\n",
              "      <th>2</th>\n",
              "      <td>https://irs.academy/kurs_po_fashion_fotografii</td>\n",
              "      <td>Онлайн-курс по Fashion-фотографии</td>\n",
              "      <td>Производителей одежды:Которые хотят увеличения...</td>\n",
              "    </tr>\n",
              "    <tr>\n",
              "      <th>3</th>\n",
              "      <td>https://irs.academy/kurs_lightroom</td>\n",
              "      <td>Онлайн-курс по Lightroom</td>\n",
              "      <td>Для начинающих фотографов:Курс поможет вам сде...</td>\n",
              "    </tr>\n",
              "    <tr>\n",
              "      <th>4</th>\n",
              "      <td>https://irs.academy/kurs_po_youtube</td>\n",
              "      <td>Онлайн-курс по YouTube</td>\n",
              "      <td>Будущих блогеров:Хотите собрать большую аудито...</td>\n",
              "    </tr>\n",
              "    <tr>\n",
              "      <th>...</th>\n",
              "      <td>...</td>\n",
              "      <td>...</td>\n",
              "      <td>...</td>\n",
              "    </tr>\n",
              "    <tr>\n",
              "      <th>198</th>\n",
              "      <td>https://irs.academy/kurs_po_remontu</td>\n",
              "      <td>Онлайн-курс по ремонту</td>\n",
              "      <td>Практичных хозяев:Вы догадываетесь, что иногда...</td>\n",
              "    </tr>\n",
              "    <tr>\n",
              "      <th>199</th>\n",
              "      <td>https://irs.academy/kurs_po_remontu_bytivoi_te...</td>\n",
              "      <td>Онлайн-курс по ремонту бытовой техники</td>\n",
              "      <td>Начинающих мастеров:Вы уже занимаетесь починко...</td>\n",
              "    </tr>\n",
              "    <tr>\n",
              "      <th>200</th>\n",
              "      <td>https://irs.academy/kurs_po_remontu_stiralnyh_...</td>\n",
              "      <td>Онлайн-курс по ремонту стиральных машин</td>\n",
              "      <td>Мастеров по ремонту техники:Вы уже на практике...</td>\n",
              "    </tr>\n",
              "    <tr>\n",
              "      <th>201</th>\n",
              "      <td>https://irs.academy/kurs_po_remontu_telefonov</td>\n",
              "      <td>Онлайн-курс по ремонту телефонов</td>\n",
              "      <td>Начинающих мастеров:Уже занимаетесь починкой с...</td>\n",
              "    </tr>\n",
              "    <tr>\n",
              "      <th>202</th>\n",
              "      <td>https://irs.academy/kurs_po_shahmatam</td>\n",
              "      <td>Онлайн-курс по шахматам</td>\n",
              "      <td>Новичков:Вас тянуло к шахматам, но не было воз...</td>\n",
              "    </tr>\n",
              "  </tbody>\n",
              "</table>\n",
              "<p>203 rows × 3 columns</p>\n",
              "</div>"
            ],
            "text/plain": [
              "                                                   url  ...                                               text\n",
              "0                     https://irs.academy/videomontazh  ...  Начинающих видеомонтажеров:Хотите освоить нову...\n",
              "1               https://irs.academy/kurs_zvukooperator  ...  Новичкам:Если вы хотите получить востребованну...\n",
              "2       https://irs.academy/kurs_po_fashion_fotografii  ...  Производителей одежды:Которые хотят увеличения...\n",
              "3                   https://irs.academy/kurs_lightroom  ...  Для начинающих фотографов:Курс поможет вам сде...\n",
              "4                  https://irs.academy/kurs_po_youtube  ...  Будущих блогеров:Хотите собрать большую аудито...\n",
              "..                                                 ...  ...                                                ...\n",
              "198                https://irs.academy/kurs_po_remontu  ...  Практичных хозяев:Вы догадываетесь, что иногда...\n",
              "199  https://irs.academy/kurs_po_remontu_bytivoi_te...  ...  Начинающих мастеров:Вы уже занимаетесь починко...\n",
              "200  https://irs.academy/kurs_po_remontu_stiralnyh_...  ...  Мастеров по ремонту техники:Вы уже на практике...\n",
              "201      https://irs.academy/kurs_po_remontu_telefonov  ...  Начинающих мастеров:Уже занимаетесь починкой с...\n",
              "202              https://irs.academy/kurs_po_shahmatam  ...  Новичков:Вас тянуло к шахматам, но не было воз...\n",
              "\n",
              "[203 rows x 3 columns]"
            ]
          },
          "metadata": {
            "tags": []
          },
          "execution_count": 8
        }
      ]
    },
    {
      "cell_type": "code",
      "metadata": {
        "id": "mGWs0qrwfvsD"
      },
      "source": [
        "df.to_csv(\"text_data.csv\")"
      ],
      "execution_count": null,
      "outputs": []
    }
  ]
}