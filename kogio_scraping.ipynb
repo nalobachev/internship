{
  "nbformat": 4,
  "nbformat_minor": 0,
  "metadata": {
    "colab": {
      "name": "kogio-scraping.ipynb",
      "provenance": [],
      "collapsed_sections": []
    },
    "kernelspec": {
      "name": "python3",
      "display_name": "Python 3"
    },
    "language_info": {
      "name": "python"
    }
  },
  "cells": [
    {
      "cell_type": "code",
      "metadata": {
        "id": "km_HvHI4tvlU"
      },
      "source": [
        "import requests\n",
        "import shutil\n",
        "from bs4 import BeautifulSoup\n",
        "import pandas as pd\n",
        "import os"
      ],
      "execution_count": null,
      "outputs": []
    },
    {
      "cell_type": "code",
      "metadata": {
        "id": "KNcmY89rDZKx"
      },
      "source": [
        "urls = [\n",
        "        \"https://kogio.ru/online-courses/personal_effectiveness/\",\n",
        "        \"https://kogio.ru/online-courses/marketing/\",\n",
        "        \"https://kogio.ru/online-courses/management/\",\n",
        "        \"https://kogio.ru/online-courses/predprinimatelstvo/\"\n",
        "]"
      ],
      "execution_count": null,
      "outputs": []
    },
    {
      "cell_type": "code",
      "metadata": {
        "id": "fgqRfl2ft2Ty"
      },
      "source": [
        "def find_images(url, image_links):\n",
        "    r = requests.get(url)\n",
        "    soup = BeautifulSoup(r.content)\n",
        "    container = soup.find(attrs={\"class\":\"main-container-content\"})\n",
        "    subjects = container.find_all('img')\n",
        "    for subject in subjects:\n",
        "        image_links.append(\"https://kogio.ru/\" + subject['src'])"
      ],
      "execution_count": null,
      "outputs": []
    },
    {
      "cell_type": "code",
      "metadata": {
        "id": "6jv1AfS5EXtt"
      },
      "source": [
        "image_links = []\n",
        "\n",
        "for url in urls:\n",
        "    find_images(url, image_links)\n",
        "\n",
        "i = 228\n",
        "for image in image_links:\n",
        "    r = requests.get(image, stream=True)\n",
        "    if r.status_code == 200:\n",
        "        with open(\"/content/drive/MyDrive/internship_bot/images/{}.jpg\".format(i), 'wb') as f: \n",
        "            r.raw.decode_content = True\n",
        "            shutil.copyfileobj(r.raw, f)\n",
        "        i += 1"
      ],
      "execution_count": null,
      "outputs": []
    }
  ]
}